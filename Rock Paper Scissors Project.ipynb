{
 "cells": [
  {
   "cell_type": "markdown",
   "id": "95a35611-cb5c-4317-b502-e2a402449794",
   "metadata": {},
   "source": [
    "# ROCK, PAPER, SCISSORS PROJECT IN PYTHON\n",
    "\n",
    "Uses the random library , therefore it's a great way to learn \"While Loops\", 'if', 'elif' statements in python."
   ]
  },
  {
   "cell_type": "code",
   "execution_count": 1,
   "id": "742071e3-5ca4-4181-8236-183142a0577e",
   "metadata": {},
   "outputs": [],
   "source": [
    "# Import Library\n",
    "from random import randint"
   ]
  },
  {
   "cell_type": "code",
   "execution_count": 2,
   "id": "9459d907-57e3-434d-bb9f-5df5be7499bd",
   "metadata": {},
   "outputs": [],
   "source": [
    "# Assign moves for the players\n",
    "\n",
    "moves = ['rock', 'paper', 'scissors']"
   ]
  },
  {
   "cell_type": "markdown",
   "id": "0bef690f-08b6-4b70-803e-9f7fe5455cd9",
   "metadata": {},
   "source": [
    "Since we are playing against the computer, it will randomly choose its option (to avoid biases) and the player can enter any of the 3 options. we can use a 'while loop' and the Boolean 'True' for this condition"
   ]
  },
  {
   "cell_type": "code",
   "execution_count": 3,
   "id": "6eadc6b6-b04a-4194-bdec-826af9f1cff1",
   "metadata": {},
   "outputs": [
    {
     "name": "stdin",
     "output_type": "stream",
     "text": [
      "rock, paper, scissors?, (or end the game) rock\n"
     ]
    },
    {
     "name": "stdout",
     "output_type": "stream",
     "text": [
      "You Loose paper beats rock\n"
     ]
    },
    {
     "name": "stdin",
     "output_type": "stream",
     "text": [
      "rock, paper, scissors?, (or end the game) paper\n"
     ]
    },
    {
     "name": "stdout",
     "output_type": "stream",
     "text": [
      "Tie\n"
     ]
    },
    {
     "name": "stdin",
     "output_type": "stream",
     "text": [
      "rock, paper, scissors?, (or end the game) scissors\n"
     ]
    },
    {
     "name": "stdout",
     "output_type": "stream",
     "text": [
      "You Win scissors beats paper\n"
     ]
    },
    {
     "name": "stdin",
     "output_type": "stream",
     "text": [
      "rock, paper, scissors?, (or end the game) paper\n"
     ]
    },
    {
     "name": "stdout",
     "output_type": "stream",
     "text": [
      "You Loose scissors beats paper\n"
     ]
    },
    {
     "name": "stdin",
     "output_type": "stream",
     "text": [
      "rock, paper, scissors?, (or end the game) Scissors\n"
     ]
    },
    {
     "name": "stdout",
     "output_type": "stream",
     "text": [
      "You Win scissors beats paper\n"
     ]
    },
    {
     "name": "stdin",
     "output_type": "stream",
     "text": [
      "rock, paper, scissors?, (or end the game) sissor\n"
     ]
    },
    {
     "name": "stdout",
     "output_type": "stream",
     "text": [
      "Check your spelling...\n"
     ]
    },
    {
     "name": "stdin",
     "output_type": "stream",
     "text": [
      "rock, paper, scissors?, (or end the game) end the game\n"
     ]
    },
    {
     "name": "stdout",
     "output_type": "stream",
     "text": [
      "The game has ended.\n"
     ]
    }
   ],
   "source": [
    "# Using While Loops & Booleans (\n",
    "\n",
    "while True:\n",
    "    computer = moves[randint(0,2)]\n",
    "    player = input('rock, paper, scissors?, (or end the game)').lower() #lower() turns any input to lowercase\n",
    "    if player == 'end the game':\n",
    "        print(\"The game has ended.\")\n",
    "        break #breaks the loop there\n",
    "    elif player == computer:\n",
    "        print(\"Tie\")\n",
    "    elif player == 'rock':\n",
    "        if computer == 'paper':\n",
    "            print(\"You Loose\", computer,'beats',player)\n",
    "        else:\n",
    "            print(\"You Win\", player,'beats',computer)\n",
    "    elif player == 'paper':\n",
    "        if computer == 'scissors':\n",
    "            print(\"You Loose\", computer,'beats',player)\n",
    "        else:\n",
    "            print(\"You Win\", player,'beats',computer)\n",
    "    elif player == 'scissors':\n",
    "        if computer == 'rock':\n",
    "            print(\"You Loose\", computer,'beats',player)\n",
    "        else:\n",
    "            print(\"You Win\", player,'beats',computer)\n",
    "    else:\n",
    "        print(\"Check your spelling...\")"
   ]
  }
 ],
 "metadata": {
  "kernelspec": {
   "display_name": "Python 3 (ipykernel)",
   "language": "python",
   "name": "python3"
  },
  "language_info": {
   "codemirror_mode": {
    "name": "ipython",
    "version": 3
   },
   "file_extension": ".py",
   "mimetype": "text/x-python",
   "name": "python",
   "nbconvert_exporter": "python",
   "pygments_lexer": "ipython3",
   "version": "3.10.9"
  }
 },
 "nbformat": 4,
 "nbformat_minor": 5
}
