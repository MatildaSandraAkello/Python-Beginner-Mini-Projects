{
 "cells": [
  {
   "cell_type": "markdown",
   "id": "b0922523-23aa-40aa-a9d1-53eead089e97",
   "metadata": {},
   "source": [
    "# PERSONAL RANDOM PASSWORD GENERATOR PROJECT"
   ]
  },
  {
   "cell_type": "markdown",
   "id": "f95575aa-e06f-4672-9a17-ad8706d35f27",
   "metadata": {},
   "source": [
    "This project uses the random libarary and is a great way to grasp working with strings, range and for loops."
   ]
  },
  {
   "cell_type": "code",
   "execution_count": 1,
   "id": "dbf05a1c-d045-4a22-9cea-6f1d8fb9443c",
   "metadata": {},
   "outputs": [],
   "source": [
    "# Import relevant Libraries\n",
    "\n",
    "from random import randint"
   ]
  },
  {
   "cell_type": "code",
   "execution_count": 2,
   "id": "756ad1f7-c4c5-4eff-a159-e5d0f86e577d",
   "metadata": {},
   "outputs": [
    {
     "name": "stdout",
     "output_type": "stream",
     "text": [
      "DFGQOUTLWI\n"
     ]
    }
   ],
   "source": [
    "# An all UPPERCASE Password\n",
    "\n",
    "password = \"\"\n",
    "\n",
    "for i in range(10):\n",
    "    i = chr(randint(65, 90)) #chr means character and statement says let i be a random character between 65 & 90.\n",
    "    password = str(password) + i\n",
    "print(password)"
   ]
  },
  {
   "cell_type": "code",
   "execution_count": 3,
   "id": "cbb3c305-1932-44e3-bd13-5385b8859763",
   "metadata": {},
   "outputs": [
    {
     "name": "stdout",
     "output_type": "stream",
     "text": [
      "XiAlMkGfJf\n"
     ]
    }
   ],
   "source": [
    "# An UPPERCASE & LOWERCASE Password\n",
    "\n",
    "password = \"\"\n",
    "for i in range(5):\n",
    "    i = chr(randint(65, 90)) \n",
    "    for j in range(5):\n",
    "        j = chr(randint(65, 90)).lower()\n",
    "    password = str(password) + i + j\n",
    "print(password)"
   ]
  }
 ],
 "metadata": {
  "kernelspec": {
   "display_name": "Python 3 (ipykernel)",
   "language": "python",
   "name": "python3"
  },
  "language_info": {
   "codemirror_mode": {
    "name": "ipython",
    "version": 3
   },
   "file_extension": ".py",
   "mimetype": "text/x-python",
   "name": "python",
   "nbconvert_exporter": "python",
   "pygments_lexer": "ipython3",
   "version": "3.10.9"
  }
 },
 "nbformat": 4,
 "nbformat_minor": 5
}
