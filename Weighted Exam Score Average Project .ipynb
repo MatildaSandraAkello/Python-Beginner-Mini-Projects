{
 "cells": [
  {
   "cell_type": "markdown",
   "id": "99b59d11-d3b1-4151-9d3e-43fbd8b20588",
   "metadata": {},
   "source": [
    "# WEIGHTED EXAM SCORE AVERAGE (MINI PROJECT)\n",
    "\n",
    "It's a simple project that covers the basics of \"for loop\" & assigning of variables, Let's jump right in !!"
   ]
  },
  {
   "cell_type": "code",
   "execution_count": 1,
   "id": "257634c3-a003-4a37-ac54-5964d12bc739",
   "metadata": {},
   "outputs": [
    {
     "name": "stdin",
     "output_type": "stream",
     "text": [
      "Enter number of Exams:  2\n"
     ]
    }
   ],
   "source": [
    "# Entering how many Exams you have done\n",
    "# Let Number_of_exams be the integer we enter in the input.\n",
    "\n",
    "Number_of_exams = int(input(\"Enter number of Exams: \"))"
   ]
  },
  {
   "cell_type": "code",
   "execution_count": 2,
   "id": "5550392e-c1b9-47d4-8f11-460799b7431b",
   "metadata": {
    "tags": []
   },
   "outputs": [
    {
     "name": "stdin",
     "output_type": "stream",
     "text": [
      "Enter how many credits these Exams Cover: 120\n"
     ]
    }
   ],
   "source": [
    "## Entering how many credits these exams cover\n",
    "\n",
    "Total_credits = int(input(\"Enter how many credits these Exams Cover:\"))"
   ]
  },
  {
   "cell_type": "code",
   "execution_count": 6,
   "id": "688cb65f-faa5-4d46-b04a-0eb7ff3504d7",
   "metadata": {},
   "outputs": [
    {
     "name": "stdin",
     "output_type": "stream",
     "text": [
      "Enter exam score: 90\n",
      "Enter how many credits this exam covered: 90\n",
      "Enter exam score: 85\n",
      "Enter how many credits this exam covered: 30\n"
     ]
    },
    {
     "name": "stdout",
     "output_type": "stream",
     "text": [
      "Your Average is: 88.75\n"
     ]
    }
   ],
   "source": [
    "# Begin with average of zero and then add percentages from each exam\n",
    "\n",
    "Average = 0\n",
    "for exam in range(Number_of_exams):\n",
    "        score = int(input(\"Enter exam score:\"))\n",
    "        exam_credits = int(input(\"Enter how many credits this exam covered:\"))\n",
    "        Average = Average + score*exam_credits/Total_credits\n",
    "        \n",
    "print(\"Your Average is:\", Average)"
   ]
  }
 ],
 "metadata": {
  "kernelspec": {
   "display_name": "Python 3 (ipykernel)",
   "language": "python",
   "name": "python3"
  },
  "language_info": {
   "codemirror_mode": {
    "name": "ipython",
    "version": 3
   },
   "file_extension": ".py",
   "mimetype": "text/x-python",
   "name": "python",
   "nbconvert_exporter": "python",
   "pygments_lexer": "ipython3",
   "version": "3.10.9"
  }
 },
 "nbformat": 4,
 "nbformat_minor": 5
}
